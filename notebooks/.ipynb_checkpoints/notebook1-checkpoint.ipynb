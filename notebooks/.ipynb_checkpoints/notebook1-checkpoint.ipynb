{
 "cells": [
  {
   "cell_type": "code",
   "execution_count": 6,
   "id": "24a33d15",
   "metadata": {},
   "outputs": [
    {
     "name": "stdout",
     "output_type": "stream",
     "text": [
      "File loaded successfully!\n"
     ]
    }
   ],
   "source": [
    "import pandas as pd \n",
    "import os\n",
    "\n",
    "# Your original data_path without a slash\n",
    "data_path = '../data'\n",
    "file_name_1 = 'Flight Level Data.csv'\n",
    "file_name_2 = 'PNR+Flight+Level+Data.csv'\n",
    "file_name_3 = 'PNR Remark Level Data.csv'\n",
    "file_name_4 = 'Bag+Level+Data.csv'\n",
    "file_name_5 = 'Airports Data.csv'\n",
    "\n",
    "# Safely join the path components\n",
    "full_path_1 = os.path.join(data_path, file_name_1)\n",
    "full_path_2 = os.path.join(data_path, file_name_2)\n",
    "full_path_3 = os.path.join(data_path, file_name_3)\n",
    "full_path_4 = os.path.join(data_path, file_name_4)\n",
    "full_path_5 = os.path.join(data_path, file_name_5)\n",
    "# Read the CSV\n",
    "flight_df = pd.read_csv(full_path_1)\n",
    "pnr_flight_df= pd.read_csv(full_path_2)\n",
    "pnr_remark_df= pd.read_csv(full_path_3)\n",
    "bag_df= pd.read_csv(full_path_4)\n",
    "airport_df= pd.read_csv(full_path_5)\n",
    "print(\"File loaded successfully!\")"
   ]
  },
  {
   "cell_type": "code",
   "execution_count": 7,
   "id": "180699a5-1c1b-4384-a297-8518c8027efe",
   "metadata": {},
   "outputs": [
    {
     "data": {
      "text/html": [
       "<div>\n",
       "<style scoped>\n",
       "    .dataframe tbody tr th:only-of-type {\n",
       "        vertical-align: middle;\n",
       "    }\n",
       "\n",
       "    .dataframe tbody tr th {\n",
       "        vertical-align: top;\n",
       "    }\n",
       "\n",
       "    .dataframe thead th {\n",
       "        text-align: right;\n",
       "    }\n",
       "</style>\n",
       "<table border=\"1\" class=\"dataframe\">\n",
       "  <thead>\n",
       "    <tr style=\"text-align: right;\">\n",
       "      <th></th>\n",
       "      <th>company_id</th>\n",
       "      <th>flight_number</th>\n",
       "      <th>scheduled_departure_date_local</th>\n",
       "      <th>scheduled_departure_station_code</th>\n",
       "      <th>scheduled_arrival_station_code</th>\n",
       "      <th>scheduled_departure_datetime_local</th>\n",
       "      <th>scheduled_arrival_datetime_local</th>\n",
       "      <th>actual_departure_datetime_local</th>\n",
       "      <th>actual_arrival_datetime_local</th>\n",
       "      <th>total_seats</th>\n",
       "      <th>fleet_type</th>\n",
       "      <th>carrier</th>\n",
       "      <th>scheduled_ground_time_minutes</th>\n",
       "      <th>actual_ground_time_minutes</th>\n",
       "      <th>minimum_turn_minutes</th>\n",
       "    </tr>\n",
       "  </thead>\n",
       "  <tbody>\n",
       "    <tr>\n",
       "      <th>0</th>\n",
       "      <td>OO</td>\n",
       "      <td>4792</td>\n",
       "      <td>2025-08-04</td>\n",
       "      <td>ORD</td>\n",
       "      <td>ROA</td>\n",
       "      <td>2025-08-04T17:57:00Z</td>\n",
       "      <td>2025-08-04T21:04:00Z</td>\n",
       "      <td>2025-08-04T18:04:00Z</td>\n",
       "      <td>2025-08-04T20:52:00Z</td>\n",
       "      <td>76</td>\n",
       "      <td>ERJ-175</td>\n",
       "      <td>Express</td>\n",
       "      <td>42</td>\n",
       "      <td>34</td>\n",
       "      <td>34</td>\n",
       "    </tr>\n",
       "    <tr>\n",
       "      <th>1</th>\n",
       "      <td>UA</td>\n",
       "      <td>920</td>\n",
       "      <td>2025-08-03</td>\n",
       "      <td>ORD</td>\n",
       "      <td>LHR</td>\n",
       "      <td>2025-08-03T18:05:00Z</td>\n",
       "      <td>2025-08-04T08:20:00Z</td>\n",
       "      <td>2025-08-03T18:27:00Z</td>\n",
       "      <td>2025-08-04T08:06:00Z</td>\n",
       "      <td>167</td>\n",
       "      <td>B767-300</td>\n",
       "      <td>Mainline</td>\n",
       "      <td>235</td>\n",
       "      <td>229</td>\n",
       "      <td>145</td>\n",
       "    </tr>\n",
       "    <tr>\n",
       "      <th>2</th>\n",
       "      <td>UA</td>\n",
       "      <td>1776</td>\n",
       "      <td>2025-08-10</td>\n",
       "      <td>ORD</td>\n",
       "      <td>PHL</td>\n",
       "      <td>2025-08-10T18:20:00Z</td>\n",
       "      <td>2025-08-10T21:35:00Z</td>\n",
       "      <td>2025-08-10T20:11:00Z</td>\n",
       "      <td>2025-08-10T23:26:00Z</td>\n",
       "      <td>166</td>\n",
       "      <td>B737-800</td>\n",
       "      <td>Mainline</td>\n",
       "      <td>76</td>\n",
       "      <td>69</td>\n",
       "      <td>51</td>\n",
       "    </tr>\n",
       "    <tr>\n",
       "      <th>3</th>\n",
       "      <td>OO</td>\n",
       "      <td>5790</td>\n",
       "      <td>2025-08-06</td>\n",
       "      <td>ORD</td>\n",
       "      <td>CRW</td>\n",
       "      <td>2025-08-06T18:20:00Z</td>\n",
       "      <td>2025-08-06T21:04:00Z</td>\n",
       "      <td>2025-08-06T20:05:00Z</td>\n",
       "      <td>2025-08-06T22:42:00Z</td>\n",
       "      <td>50</td>\n",
       "      <td>CRJ-200</td>\n",
       "      <td>Express</td>\n",
       "      <td>223</td>\n",
       "      <td>38</td>\n",
       "      <td>29</td>\n",
       "    </tr>\n",
       "    <tr>\n",
       "      <th>4</th>\n",
       "      <td>UA</td>\n",
       "      <td>1398</td>\n",
       "      <td>2025-08-05</td>\n",
       "      <td>ORD</td>\n",
       "      <td>ATL</td>\n",
       "      <td>2025-08-05T18:20:00Z</td>\n",
       "      <td>2025-08-05T21:29:00Z</td>\n",
       "      <td>2025-08-05T18:16:00Z</td>\n",
       "      <td>2025-08-05T21:49:00Z</td>\n",
       "      <td>166</td>\n",
       "      <td>B737-800</td>\n",
       "      <td>Mainline</td>\n",
       "      <td>75</td>\n",
       "      <td>72</td>\n",
       "      <td>51</td>\n",
       "    </tr>\n",
       "  </tbody>\n",
       "</table>\n",
       "</div>"
      ],
      "text/plain": [
       "  company_id  flight_number scheduled_departure_date_local  \\\n",
       "0         OO           4792                     2025-08-04   \n",
       "1         UA            920                     2025-08-03   \n",
       "2         UA           1776                     2025-08-10   \n",
       "3         OO           5790                     2025-08-06   \n",
       "4         UA           1398                     2025-08-05   \n",
       "\n",
       "  scheduled_departure_station_code scheduled_arrival_station_code  \\\n",
       "0                              ORD                            ROA   \n",
       "1                              ORD                            LHR   \n",
       "2                              ORD                            PHL   \n",
       "3                              ORD                            CRW   \n",
       "4                              ORD                            ATL   \n",
       "\n",
       "  scheduled_departure_datetime_local scheduled_arrival_datetime_local  \\\n",
       "0               2025-08-04T17:57:00Z             2025-08-04T21:04:00Z   \n",
       "1               2025-08-03T18:05:00Z             2025-08-04T08:20:00Z   \n",
       "2               2025-08-10T18:20:00Z             2025-08-10T21:35:00Z   \n",
       "3               2025-08-06T18:20:00Z             2025-08-06T21:04:00Z   \n",
       "4               2025-08-05T18:20:00Z             2025-08-05T21:29:00Z   \n",
       "\n",
       "  actual_departure_datetime_local actual_arrival_datetime_local  total_seats  \\\n",
       "0            2025-08-04T18:04:00Z          2025-08-04T20:52:00Z           76   \n",
       "1            2025-08-03T18:27:00Z          2025-08-04T08:06:00Z          167   \n",
       "2            2025-08-10T20:11:00Z          2025-08-10T23:26:00Z          166   \n",
       "3            2025-08-06T20:05:00Z          2025-08-06T22:42:00Z           50   \n",
       "4            2025-08-05T18:16:00Z          2025-08-05T21:49:00Z          166   \n",
       "\n",
       "  fleet_type   carrier  scheduled_ground_time_minutes  \\\n",
       "0    ERJ-175   Express                             42   \n",
       "1   B767-300  Mainline                            235   \n",
       "2   B737-800  Mainline                             76   \n",
       "3    CRJ-200   Express                            223   \n",
       "4   B737-800  Mainline                             75   \n",
       "\n",
       "   actual_ground_time_minutes  minimum_turn_minutes  \n",
       "0                          34                    34  \n",
       "1                         229                   145  \n",
       "2                          69                    51  \n",
       "3                          38                    29  \n",
       "4                          72                    51  "
      ]
     },
     "execution_count": 7,
     "metadata": {},
     "output_type": "execute_result"
    }
   ],
   "source": [
    "flight_df.head()"
   ]
  },
  {
   "cell_type": "code",
   "execution_count": 8,
   "id": "a733ed23-086c-4e91-89e3-6984fcfe5a5b",
   "metadata": {},
   "outputs": [
    {
     "name": "stdout",
     "output_type": "stream",
     "text": [
      "<class 'pandas.core.frame.DataFrame'>\n",
      "RangeIndex: 8099 entries, 0 to 8098\n",
      "Data columns (total 15 columns):\n",
      " #   Column                              Non-Null Count  Dtype \n",
      "---  ------                              --------------  ----- \n",
      " 0   company_id                          8099 non-null   object\n",
      " 1   flight_number                       8099 non-null   int64 \n",
      " 2   scheduled_departure_date_local      8099 non-null   object\n",
      " 3   scheduled_departure_station_code    8099 non-null   object\n",
      " 4   scheduled_arrival_station_code      8099 non-null   object\n",
      " 5   scheduled_departure_datetime_local  8099 non-null   object\n",
      " 6   scheduled_arrival_datetime_local    8099 non-null   object\n",
      " 7   actual_departure_datetime_local     8099 non-null   object\n",
      " 8   actual_arrival_datetime_local       8099 non-null   object\n",
      " 9   total_seats                         8099 non-null   int64 \n",
      " 10  fleet_type                          8099 non-null   object\n",
      " 11  carrier                             8099 non-null   object\n",
      " 12  scheduled_ground_time_minutes       8099 non-null   int64 \n",
      " 13  actual_ground_time_minutes          8099 non-null   int64 \n",
      " 14  minimum_turn_minutes                8099 non-null   int64 \n",
      "dtypes: int64(5), object(10)\n",
      "memory usage: 949.2+ KB\n"
     ]
    }
   ],
   "source": [
    "# Get a summary of the flight_df DataFrame\n",
    "flight_df.info()"
   ]
  },
  {
   "cell_type": "code",
   "execution_count": 9,
   "id": "70cdaec6-1ef3-4ec9-9485-540bfe41837b",
   "metadata": {},
   "outputs": [
    {
     "data": {
      "text/plain": [
       "company_id                            0\n",
       "flight_number                         0\n",
       "scheduled_departure_date_local        0\n",
       "scheduled_departure_station_code      0\n",
       "scheduled_arrival_station_code        0\n",
       "scheduled_departure_datetime_local    0\n",
       "scheduled_arrival_datetime_local      0\n",
       "actual_departure_datetime_local       0\n",
       "actual_arrival_datetime_local         0\n",
       "total_seats                           0\n",
       "fleet_type                            0\n",
       "carrier                               0\n",
       "scheduled_ground_time_minutes         0\n",
       "actual_ground_time_minutes            0\n",
       "minimum_turn_minutes                  0\n",
       "dtype: int64"
      ]
     },
     "execution_count": 9,
     "metadata": {},
     "output_type": "execute_result"
    }
   ],
   "source": [
    "# Count the number of missing values in each column\n",
    "flight_df.isnull().sum()"
   ]
  },
  {
   "cell_type": "code",
   "execution_count": 10,
   "id": "8c7dd0db-2ea9-4c27-a376-e05f1ea81532",
   "metadata": {},
   "outputs": [
    {
     "name": "stdout",
     "output_type": "stream",
     "text": [
      "<class 'pandas.core.frame.DataFrame'>\n",
      "RangeIndex: 687878 entries, 0 to 687877\n",
      "Data columns (total 12 columns):\n",
      " #   Column                            Non-Null Count   Dtype \n",
      "---  ------                            --------------   ----- \n",
      " 0   company_id                        687878 non-null  object\n",
      " 1   flight_number                     687878 non-null  int64 \n",
      " 2   scheduled_departure_date_local    687878 non-null  object\n",
      " 3   scheduled_departure_station_code  687878 non-null  object\n",
      " 4   scheduled_arrival_station_code    687878 non-null  object\n",
      " 5   record_locator                    687878 non-null  object\n",
      " 6   pnr_creation_date                 687878 non-null  object\n",
      " 7   total_pax                         687878 non-null  int64 \n",
      " 8   is_child                          687878 non-null  object\n",
      " 9   basic_economy_ind                 687878 non-null  int64 \n",
      " 10  is_stroller_user                  687878 non-null  object\n",
      " 11  lap_child_count                   687878 non-null  int64 \n",
      "dtypes: int64(4), object(8)\n",
      "memory usage: 63.0+ MB\n"
     ]
    }
   ],
   "source": [
    "pnr_flight_df.info()"
   ]
  },
  {
   "cell_type": "code",
   "execution_count": 11,
   "id": "7c948f9b-16f5-4224-b666-a35ad2c54153",
   "metadata": {},
   "outputs": [
    {
     "name": "stdout",
     "output_type": "stream",
     "text": [
      "<class 'pandas.core.frame.DataFrame'>\n",
      "RangeIndex: 8099 entries, 0 to 8098\n",
      "Data columns (total 15 columns):\n",
      " #   Column                              Non-Null Count  Dtype \n",
      "---  ------                              --------------  ----- \n",
      " 0   company_id                          8099 non-null   object\n",
      " 1   flight_number                       8099 non-null   int64 \n",
      " 2   scheduled_departure_date_local      8099 non-null   object\n",
      " 3   scheduled_departure_station_code    8099 non-null   object\n",
      " 4   scheduled_arrival_station_code      8099 non-null   object\n",
      " 5   scheduled_departure_datetime_local  8099 non-null   object\n",
      " 6   scheduled_arrival_datetime_local    8099 non-null   object\n",
      " 7   actual_departure_datetime_local     8099 non-null   object\n",
      " 8   actual_arrival_datetime_local       8099 non-null   object\n",
      " 9   total_seats                         8099 non-null   int64 \n",
      " 10  fleet_type                          8099 non-null   object\n",
      " 11  carrier                             8099 non-null   object\n",
      " 12  scheduled_ground_time_minutes       8099 non-null   int64 \n",
      " 13  actual_ground_time_minutes          8099 non-null   int64 \n",
      " 14  minimum_turn_minutes                8099 non-null   int64 \n",
      "dtypes: int64(5), object(10)\n",
      "memory usage: 949.2+ KB\n"
     ]
    }
   ],
   "source": [
    "flight_df.info()"
   ]
  },
  {
   "cell_type": "code",
   "execution_count": 12,
   "id": "4021ef19-3cfe-479c-b080-e2419d3fb904",
   "metadata": {},
   "outputs": [
    {
     "name": "stdout",
     "output_type": "stream",
     "text": [
      "<class 'pandas.core.frame.DataFrame'>\n",
      "RangeIndex: 8099 entries, 0 to 8098\n",
      "Data columns (total 15 columns):\n",
      " #   Column                              Non-Null Count  Dtype \n",
      "---  ------                              --------------  ----- \n",
      " 0   company_id                          8099 non-null   object\n",
      " 1   flight_number                       8099 non-null   int64 \n",
      " 2   scheduled_departure_date_local      8099 non-null   object\n",
      " 3   scheduled_departure_station_code    8099 non-null   object\n",
      " 4   scheduled_arrival_station_code      8099 non-null   object\n",
      " 5   scheduled_departure_datetime_local  8099 non-null   object\n",
      " 6   scheduled_arrival_datetime_local    8099 non-null   object\n",
      " 7   actual_departure_datetime_local     8099 non-null   object\n",
      " 8   actual_arrival_datetime_local       8099 non-null   object\n",
      " 9   total_seats                         8099 non-null   int64 \n",
      " 10  fleet_type                          8099 non-null   object\n",
      " 11  carrier                             8099 non-null   object\n",
      " 12  scheduled_ground_time_minutes       8099 non-null   int64 \n",
      " 13  actual_ground_time_minutes          8099 non-null   int64 \n",
      " 14  minimum_turn_minutes                8099 non-null   int64 \n",
      "dtypes: int64(5), object(10)\n",
      "memory usage: 949.2+ KB\n",
      "<class 'pandas.core.frame.DataFrame'>\n",
      "RangeIndex: 687878 entries, 0 to 687877\n",
      "Data columns (total 12 columns):\n",
      " #   Column                            Non-Null Count   Dtype \n",
      "---  ------                            --------------   ----- \n",
      " 0   company_id                        687878 non-null  object\n",
      " 1   flight_number                     687878 non-null  int64 \n",
      " 2   scheduled_departure_date_local    687878 non-null  object\n",
      " 3   scheduled_departure_station_code  687878 non-null  object\n",
      " 4   scheduled_arrival_station_code    687878 non-null  object\n",
      " 5   record_locator                    687878 non-null  object\n",
      " 6   pnr_creation_date                 687878 non-null  object\n",
      " 7   total_pax                         687878 non-null  int64 \n",
      " 8   is_child                          687878 non-null  object\n",
      " 9   basic_economy_ind                 687878 non-null  int64 \n",
      " 10  is_stroller_user                  687878 non-null  object\n",
      " 11  lap_child_count                   687878 non-null  int64 \n",
      "dtypes: int64(4), object(8)\n",
      "memory usage: 63.0+ MB\n",
      "<class 'pandas.core.frame.DataFrame'>\n",
      "RangeIndex: 51698 entries, 0 to 51697\n",
      "Data columns (total 4 columns):\n",
      " #   Column                   Non-Null Count  Dtype \n",
      "---  ------                   --------------  ----- \n",
      " 0   record_locator           51698 non-null  object\n",
      " 1   pnr_creation_date        51698 non-null  object\n",
      " 2   flight_number            51698 non-null  int64 \n",
      " 3   special_service_request  51698 non-null  object\n",
      "dtypes: int64(1), object(3)\n",
      "memory usage: 1.6+ MB\n",
      "<class 'pandas.core.frame.DataFrame'>\n",
      "RangeIndex: 687245 entries, 0 to 687244\n",
      "Data columns (total 8 columns):\n",
      " #   Column                            Non-Null Count   Dtype \n",
      "---  ------                            --------------   ----- \n",
      " 0   company_id                        687245 non-null  object\n",
      " 1   flight_number                     687245 non-null  int64 \n",
      " 2   scheduled_departure_date_local    687245 non-null  object\n",
      " 3   scheduled_departure_station_code  687245 non-null  object\n",
      " 4   scheduled_arrival_station_code    687245 non-null  object\n",
      " 5   bag_tag_unique_number             687245 non-null  object\n",
      " 6   bag_tag_issue_date                687245 non-null  object\n",
      " 7   bag_type                          687245 non-null  object\n",
      "dtypes: int64(1), object(7)\n",
      "memory usage: 41.9+ MB\n",
      "<class 'pandas.core.frame.DataFrame'>\n",
      "RangeIndex: 687245 entries, 0 to 687244\n",
      "Data columns (total 8 columns):\n",
      " #   Column                            Non-Null Count   Dtype \n",
      "---  ------                            --------------   ----- \n",
      " 0   company_id                        687245 non-null  object\n",
      " 1   flight_number                     687245 non-null  int64 \n",
      " 2   scheduled_departure_date_local    687245 non-null  object\n",
      " 3   scheduled_departure_station_code  687245 non-null  object\n",
      " 4   scheduled_arrival_station_code    687245 non-null  object\n",
      " 5   bag_tag_unique_number             687245 non-null  object\n",
      " 6   bag_tag_issue_date                687245 non-null  object\n",
      " 7   bag_type                          687245 non-null  object\n",
      "dtypes: int64(1), object(7)\n",
      "memory usage: 41.9+ MB\n"
     ]
    }
   ],
   "source": [
    "flight_df.info()\n",
    "pnr_flight_df.info()\n",
    "pnr_remark_df.info()\n",
    "bag_df.info()\n",
    "bag_df.info()\n"
   ]
  },
  {
   "cell_type": "code",
   "execution_count": 13,
   "id": "989d1eab-c165-420b-9870-f05b28f2d5cf",
   "metadata": {},
   "outputs": [
    {
     "name": "stdout",
     "output_type": "stream",
     "text": [
      "✅ Date columns have been converted.\n"
     ]
    }
   ],
   "source": [
    "# --- Fix flight_df ---\n",
    "date_cols_flight = [\n",
    "    'scheduled_departure_date_local',\n",
    "    'scheduled_departure_datetime_local',\n",
    "    'scheduled_arrival_datetime_local',\n",
    "    'actual_departure_datetime_local',\n",
    "    'actual_arrival_datetime_local'\n",
    "]\n",
    "for col in date_cols_flight:\n",
    "    flight_df[col] = pd.to_datetime(flight_df[col])\n",
    "\n",
    "# --- Fix pnr_flight_df ---\n",
    "pnr_flight_df['scheduled_departure_date_local'] = pd.to_datetime(pnr_flight_df['scheduled_departure_date_local'])\n",
    "\n",
    "# --- Fix bag_df ---\n",
    "bag_df['scheduled_departure_date_local'] = pd.to_datetime(bag_df['scheduled_departure_date_local'])\n",
    "\n",
    "print(\"✅ Date columns have been converted.\")"
   ]
  },
  {
   "cell_type": "code",
   "execution_count": 14,
   "id": "e45de813-537a-4fb5-9031-11516805a155",
   "metadata": {},
   "outputs": [
    {
     "name": "stdout",
     "output_type": "stream",
     "text": [
      "✅ Boolean columns converted to 0/1.\n"
     ]
    }
   ],
   "source": [
    "# In pnr_flight_df, convert 'Y'/'N' to 1/0\n",
    "pnr_flight_df['is_child'] = pnr_flight_df['is_child'].apply(lambda x: 1 if x == 'Y' else 0)\n",
    "pnr_flight_df['is_stroller_user'] = pnr_flight_df['is_stroller_user'].apply(lambda x: 1 if x == 'Y' else 0)\n",
    "\n",
    "print(\"✅ Boolean columns converted to 0/1.\")"
   ]
  },
  {
   "cell_type": "code",
   "execution_count": 15,
   "id": "966c6d3a-cb18-41a4-b3b5-f3fb13f97998",
   "metadata": {},
   "outputs": [
    {
     "name": "stdout",
     "output_type": "stream",
     "text": [
      "Passenger data summarized per flight:\n"
     ]
    },
    {
     "data": {
      "text/html": [
       "<div>\n",
       "<style scoped>\n",
       "    .dataframe tbody tr th:only-of-type {\n",
       "        vertical-align: middle;\n",
       "    }\n",
       "\n",
       "    .dataframe tbody tr th {\n",
       "        vertical-align: top;\n",
       "    }\n",
       "\n",
       "    .dataframe thead th {\n",
       "        text-align: right;\n",
       "    }\n",
       "</style>\n",
       "<table border=\"1\" class=\"dataframe\">\n",
       "  <thead>\n",
       "    <tr style=\"text-align: right;\">\n",
       "      <th></th>\n",
       "      <th>company_id</th>\n",
       "      <th>flight_number</th>\n",
       "      <th>scheduled_departure_date_local</th>\n",
       "      <th>total_pax</th>\n",
       "      <th>total_children</th>\n",
       "      <th>total_stroller_users</th>\n",
       "      <th>total_lap_children</th>\n",
       "      <th>total_basic_economy</th>\n",
       "    </tr>\n",
       "  </thead>\n",
       "  <tbody>\n",
       "    <tr>\n",
       "      <th>0</th>\n",
       "      <td>G7</td>\n",
       "      <td>4173</td>\n",
       "      <td>2025-08-01</td>\n",
       "      <td>56</td>\n",
       "      <td>2</td>\n",
       "      <td>0</td>\n",
       "      <td>0</td>\n",
       "      <td>2</td>\n",
       "    </tr>\n",
       "    <tr>\n",
       "      <th>1</th>\n",
       "      <td>G7</td>\n",
       "      <td>4173</td>\n",
       "      <td>2025-08-03</td>\n",
       "      <td>56</td>\n",
       "      <td>2</td>\n",
       "      <td>0</td>\n",
       "      <td>0</td>\n",
       "      <td>6</td>\n",
       "    </tr>\n",
       "    <tr>\n",
       "      <th>2</th>\n",
       "      <td>G7</td>\n",
       "      <td>4173</td>\n",
       "      <td>2025-08-04</td>\n",
       "      <td>48</td>\n",
       "      <td>0</td>\n",
       "      <td>0</td>\n",
       "      <td>0</td>\n",
       "      <td>0</td>\n",
       "    </tr>\n",
       "    <tr>\n",
       "      <th>3</th>\n",
       "      <td>G7</td>\n",
       "      <td>4173</td>\n",
       "      <td>2025-08-05</td>\n",
       "      <td>46</td>\n",
       "      <td>1</td>\n",
       "      <td>0</td>\n",
       "      <td>0</td>\n",
       "      <td>4</td>\n",
       "    </tr>\n",
       "    <tr>\n",
       "      <th>4</th>\n",
       "      <td>G7</td>\n",
       "      <td>4173</td>\n",
       "      <td>2025-08-06</td>\n",
       "      <td>44</td>\n",
       "      <td>0</td>\n",
       "      <td>0</td>\n",
       "      <td>0</td>\n",
       "      <td>1</td>\n",
       "    </tr>\n",
       "  </tbody>\n",
       "</table>\n",
       "</div>"
      ],
      "text/plain": [
       "  company_id  flight_number scheduled_departure_date_local  total_pax  \\\n",
       "0         G7           4173                     2025-08-01         56   \n",
       "1         G7           4173                     2025-08-03         56   \n",
       "2         G7           4173                     2025-08-04         48   \n",
       "3         G7           4173                     2025-08-05         46   \n",
       "4         G7           4173                     2025-08-06         44   \n",
       "\n",
       "   total_children  total_stroller_users  total_lap_children  \\\n",
       "0               2                     0                   0   \n",
       "1               2                     0                   0   \n",
       "2               0                     0                   0   \n",
       "3               1                     0                   0   \n",
       "4               0                     0                   0   \n",
       "\n",
       "   total_basic_economy  \n",
       "0                    2  \n",
       "1                    6  \n",
       "2                    0  \n",
       "3                    4  \n",
       "4                    1  "
      ]
     },
     "execution_count": 15,
     "metadata": {},
     "output_type": "execute_result"
    }
   ],
   "source": [
    "flight_key = ['company_id', 'flight_number', 'scheduled_departure_date_local']\n",
    "\n",
    "pnr_summary = pnr_flight_df.groupby(flight_key).agg(\n",
    "    total_pax=('total_pax', 'sum'),\n",
    "    total_children=('is_child', 'sum'),\n",
    "    total_stroller_users=('is_stroller_user', 'sum'),\n",
    "    total_lap_children=('lap_child_count', 'sum'),\n",
    "    total_basic_economy=('basic_economy_ind', 'sum') # Column name from prompt might be basic_economy_pax\n",
    ").reset_index()\n",
    "\n",
    "print(\"Passenger data summarized per flight:\")\n",
    "pnr_summary.head()"
   ]
  },
  {
   "cell_type": "code",
   "execution_count": 16,
   "id": "7bc7e29e-3498-40ab-b776-6365af2c4c38",
   "metadata": {},
   "outputs": [
    {
     "name": "stdout",
     "output_type": "stream",
     "text": [
      "Baggage data summarized per flight:\n"
     ]
    },
    {
     "data": {
      "text/html": [
       "<div>\n",
       "<style scoped>\n",
       "    .dataframe tbody tr th:only-of-type {\n",
       "        vertical-align: middle;\n",
       "    }\n",
       "\n",
       "    .dataframe tbody tr th {\n",
       "        vertical-align: top;\n",
       "    }\n",
       "\n",
       "    .dataframe thead th {\n",
       "        text-align: right;\n",
       "    }\n",
       "</style>\n",
       "<table border=\"1\" class=\"dataframe\">\n",
       "  <thead>\n",
       "    <tr style=\"text-align: right;\">\n",
       "      <th>bag_type</th>\n",
       "      <th>company_id</th>\n",
       "      <th>flight_number</th>\n",
       "      <th>scheduled_departure_date_local</th>\n",
       "      <th>Hot Transfer</th>\n",
       "      <th>Origin</th>\n",
       "      <th>transfer_bags</th>\n",
       "    </tr>\n",
       "  </thead>\n",
       "  <tbody>\n",
       "    <tr>\n",
       "      <th>0</th>\n",
       "      <td>4Y</td>\n",
       "      <td>52</td>\n",
       "      <td>2025-08-08</td>\n",
       "      <td>0</td>\n",
       "      <td>0</td>\n",
       "      <td>1</td>\n",
       "    </tr>\n",
       "    <tr>\n",
       "      <th>1</th>\n",
       "      <td>9X</td>\n",
       "      <td>305</td>\n",
       "      <td>2025-08-01</td>\n",
       "      <td>0</td>\n",
       "      <td>0</td>\n",
       "      <td>1</td>\n",
       "    </tr>\n",
       "    <tr>\n",
       "      <th>2</th>\n",
       "      <td>9X</td>\n",
       "      <td>305</td>\n",
       "      <td>2025-08-08</td>\n",
       "      <td>0</td>\n",
       "      <td>0</td>\n",
       "      <td>1</td>\n",
       "    </tr>\n",
       "    <tr>\n",
       "      <th>3</th>\n",
       "      <td>9X</td>\n",
       "      <td>330</td>\n",
       "      <td>2025-08-03</td>\n",
       "      <td>0</td>\n",
       "      <td>0</td>\n",
       "      <td>1</td>\n",
       "    </tr>\n",
       "    <tr>\n",
       "      <th>4</th>\n",
       "      <td>9X</td>\n",
       "      <td>332</td>\n",
       "      <td>2025-08-01</td>\n",
       "      <td>0</td>\n",
       "      <td>0</td>\n",
       "      <td>1</td>\n",
       "    </tr>\n",
       "  </tbody>\n",
       "</table>\n",
       "</div>"
      ],
      "text/plain": [
       "bag_type company_id  flight_number scheduled_departure_date_local  \\\n",
       "0                4Y             52                     2025-08-08   \n",
       "1                9X            305                     2025-08-01   \n",
       "2                9X            305                     2025-08-08   \n",
       "3                9X            330                     2025-08-03   \n",
       "4                9X            332                     2025-08-01   \n",
       "\n",
       "bag_type  Hot Transfer  Origin  transfer_bags  \n",
       "0                    0       0              1  \n",
       "1                    0       0              1  \n",
       "2                    0       0              1  \n",
       "3                    0       0              1  \n",
       "4                    0       0              1  "
      ]
     },
     "execution_count": 16,
     "metadata": {},
     "output_type": "execute_result"
    }
   ],
   "source": [
    "# Create a pivot table to count bag types for each flight\n",
    "bag_summary = bag_df.pivot_table(\n",
    "    index=flight_key,\n",
    "    columns='bag_type',\n",
    "    values='bag_tag_unique_number',\n",
    "    aggfunc='count',\n",
    "    fill_value=0\n",
    ").reset_index()\n",
    "\n",
    "# Rename columns for clarity\n",
    "bag_summary = bag_summary.rename(columns={'Checked': 'checked_bags', 'Transfer': 'transfer_bags'})\n",
    "print(\"Baggage data summarized per flight:\")\n",
    "bag_summary.head()"
   ]
  },
  {
   "cell_type": "code",
   "execution_count": 17,
   "id": "8454283c-d362-419c-bf8c-069cca255bb0",
   "metadata": {},
   "outputs": [
    {
     "name": "stdout",
     "output_type": "stream",
     "text": [
      "SSR data summarized per flight:\n"
     ]
    },
    {
     "data": {
      "text/html": [
       "<div>\n",
       "<style scoped>\n",
       "    .dataframe tbody tr th:only-of-type {\n",
       "        vertical-align: middle;\n",
       "    }\n",
       "\n",
       "    .dataframe tbody tr th {\n",
       "        vertical-align: top;\n",
       "    }\n",
       "\n",
       "    .dataframe thead th {\n",
       "        text-align: right;\n",
       "    }\n",
       "</style>\n",
       "<table border=\"1\" class=\"dataframe\">\n",
       "  <thead>\n",
       "    <tr style=\"text-align: right;\">\n",
       "      <th></th>\n",
       "      <th>company_id</th>\n",
       "      <th>flight_number</th>\n",
       "      <th>scheduled_departure_date_local</th>\n",
       "      <th>ssr_count</th>\n",
       "    </tr>\n",
       "  </thead>\n",
       "  <tbody>\n",
       "    <tr>\n",
       "      <th>0</th>\n",
       "      <td>G7</td>\n",
       "      <td>4173</td>\n",
       "      <td>2025-08-03</td>\n",
       "      <td>2</td>\n",
       "    </tr>\n",
       "    <tr>\n",
       "      <th>1</th>\n",
       "      <td>G7</td>\n",
       "      <td>4173</td>\n",
       "      <td>2025-08-04</td>\n",
       "      <td>1</td>\n",
       "    </tr>\n",
       "    <tr>\n",
       "      <th>2</th>\n",
       "      <td>G7</td>\n",
       "      <td>4173</td>\n",
       "      <td>2025-08-06</td>\n",
       "      <td>1</td>\n",
       "    </tr>\n",
       "    <tr>\n",
       "      <th>3</th>\n",
       "      <td>G7</td>\n",
       "      <td>4173</td>\n",
       "      <td>2025-08-11</td>\n",
       "      <td>1</td>\n",
       "    </tr>\n",
       "    <tr>\n",
       "      <th>4</th>\n",
       "      <td>G7</td>\n",
       "      <td>4173</td>\n",
       "      <td>2025-08-15</td>\n",
       "      <td>1</td>\n",
       "    </tr>\n",
       "  </tbody>\n",
       "</table>\n",
       "</div>"
      ],
      "text/plain": [
       "  company_id  flight_number scheduled_departure_date_local  ssr_count\n",
       "0         G7           4173                     2025-08-03          2\n",
       "1         G7           4173                     2025-08-04          1\n",
       "2         G7           4173                     2025-08-06          1\n",
       "3         G7           4173                     2025-08-11          1\n",
       "4         G7           4173                     2025-08-15          1"
      ]
     },
     "execution_count": 17,
     "metadata": {},
     "output_type": "execute_result"
    }
   ],
   "source": [
    "# Step A: Merge remarks with PNR data to get the flight_key\n",
    "# The link between them is 'record_locator' and 'flight_number'\n",
    "pnr_with_remarks = pd.merge(pnr_flight_df, pnr_remark_df, on=['record_locator', 'flight_number'])\n",
    "\n",
    "# Step B: Now group by the flight_key and count the requests\n",
    "ssr_summary = pnr_with_remarks.groupby(flight_key).agg(\n",
    "    ssr_count=('special_service_request', 'count')\n",
    ").reset_index()\n",
    "\n",
    "print(\"SSR data summarized per flight:\")\n",
    "ssr_summary.head()"
   ]
  },
  {
   "cell_type": "code",
   "execution_count": 18,
   "id": "fafc06c6-18b9-44bf-a8ee-0feb9debb918",
   "metadata": {},
   "outputs": [
    {
     "name": "stdout",
     "output_type": "stream",
     "text": [
      "✅ All summaries have been merged into master_df!\n",
      "<class 'pandas.core.frame.DataFrame'>\n",
      "RangeIndex: 8099 entries, 0 to 8098\n",
      "Data columns (total 24 columns):\n",
      " #   Column                              Non-Null Count  Dtype              \n",
      "---  ------                              --------------  -----              \n",
      " 0   company_id                          8099 non-null   object             \n",
      " 1   flight_number                       8099 non-null   int64              \n",
      " 2   scheduled_departure_date_local      8099 non-null   datetime64[ns]     \n",
      " 3   scheduled_departure_station_code    8099 non-null   object             \n",
      " 4   scheduled_arrival_station_code      8099 non-null   object             \n",
      " 5   scheduled_departure_datetime_local  8099 non-null   datetime64[ns, UTC]\n",
      " 6   scheduled_arrival_datetime_local    8099 non-null   datetime64[ns, UTC]\n",
      " 7   actual_departure_datetime_local     8099 non-null   datetime64[ns, UTC]\n",
      " 8   actual_arrival_datetime_local       8099 non-null   datetime64[ns, UTC]\n",
      " 9   total_seats                         8099 non-null   int64              \n",
      " 10  fleet_type                          8099 non-null   object             \n",
      " 11  carrier                             8099 non-null   object             \n",
      " 12  scheduled_ground_time_minutes       8099 non-null   int64              \n",
      " 13  actual_ground_time_minutes          8099 non-null   int64              \n",
      " 14  minimum_turn_minutes                8099 non-null   int64              \n",
      " 15  total_pax                           8099 non-null   int64              \n",
      " 16  total_children                      8099 non-null   int64              \n",
      " 17  total_stroller_users                8099 non-null   int64              \n",
      " 18  total_lap_children                  8099 non-null   int64              \n",
      " 19  total_basic_economy                 8099 non-null   int64              \n",
      " 20  Hot Transfer                        8099 non-null   int64              \n",
      " 21  Origin                              8099 non-null   int64              \n",
      " 22  transfer_bags                       8099 non-null   int64              \n",
      " 23  ssr_count                           8099 non-null   float64            \n",
      "dtypes: datetime64[ns, UTC](4), datetime64[ns](1), float64(1), int64(13), object(5)\n",
      "memory usage: 1.5+ MB\n"
     ]
    }
   ],
   "source": [
    "# Start with the main flight_df\n",
    "master_df = flight_df.copy()\n",
    "\n",
    "# Merge the passenger summary\n",
    "master_df = pd.merge(master_df, pnr_summary, on=flight_key, how='left')\n",
    "\n",
    "# Merge the bag summary\n",
    "master_df = pd.merge(master_df, bag_summary, on=flight_key, how='left')\n",
    "\n",
    "# Merge the SSR summary\n",
    "master_df = pd.merge(master_df, ssr_summary, on=flight_key, how='left')\n",
    "\n",
    "# After merging, some flights might not have bags or SSRs, creating NaN (Not a Number) values.\n",
    "# Let's fill these with 0.\n",
    "fill_zeros = ['total_pax', 'total_children', 'checked_bags', 'transfer_bags', 'ssr_count']\n",
    "for col in fill_zeros:\n",
    "    if col in master_df.columns:\n",
    "        master_df[col] = master_df[col].fillna(0)\n",
    "\n",
    "print(\"✅ All summaries have been merged into master_df!\")\n",
    "master_df.info() # Check your new master dataframe"
   ]
  },
  {
   "cell_type": "code",
   "execution_count": 19,
   "id": "814d1c54-5f48-4372-85de-524ab85ad831",
   "metadata": {},
   "outputs": [
    {
     "name": "stdout",
     "output_type": "stream",
     "text": [
      "New features created:\n"
     ]
    },
    {
     "data": {
      "text/html": [
       "<div>\n",
       "<style scoped>\n",
       "    .dataframe tbody tr th:only-of-type {\n",
       "        vertical-align: middle;\n",
       "    }\n",
       "\n",
       "    .dataframe tbody tr th {\n",
       "        vertical-align: top;\n",
       "    }\n",
       "\n",
       "    .dataframe thead th {\n",
       "        text-align: right;\n",
       "    }\n",
       "</style>\n",
       "<table border=\"1\" class=\"dataframe\">\n",
       "  <thead>\n",
       "    <tr style=\"text-align: right;\">\n",
       "      <th></th>\n",
       "      <th>flight_number</th>\n",
       "      <th>departure_delay_minutes</th>\n",
       "      <th>load_factor</th>\n",
       "      <th>ground_time_crunch</th>\n",
       "      <th>total_bags</th>\n",
       "    </tr>\n",
       "  </thead>\n",
       "  <tbody>\n",
       "    <tr>\n",
       "      <th>0</th>\n",
       "      <td>4792</td>\n",
       "      <td>7.0</td>\n",
       "      <td>0.855263</td>\n",
       "      <td>-8</td>\n",
       "      <td>0</td>\n",
       "    </tr>\n",
       "    <tr>\n",
       "      <th>1</th>\n",
       "      <td>920</td>\n",
       "      <td>22.0</td>\n",
       "      <td>1.023952</td>\n",
       "      <td>-90</td>\n",
       "      <td>0</td>\n",
       "    </tr>\n",
       "    <tr>\n",
       "      <th>2</th>\n",
       "      <td>1776</td>\n",
       "      <td>111.0</td>\n",
       "      <td>1.084337</td>\n",
       "      <td>-25</td>\n",
       "      <td>0</td>\n",
       "    </tr>\n",
       "    <tr>\n",
       "      <th>3</th>\n",
       "      <td>5790</td>\n",
       "      <td>105.0</td>\n",
       "      <td>1.100000</td>\n",
       "      <td>-194</td>\n",
       "      <td>0</td>\n",
       "    </tr>\n",
       "    <tr>\n",
       "      <th>4</th>\n",
       "      <td>1398</td>\n",
       "      <td>-4.0</td>\n",
       "      <td>0.819277</td>\n",
       "      <td>-24</td>\n",
       "      <td>0</td>\n",
       "    </tr>\n",
       "  </tbody>\n",
       "</table>\n",
       "</div>"
      ],
      "text/plain": [
       "   flight_number  departure_delay_minutes  load_factor  ground_time_crunch  \\\n",
       "0           4792                      7.0     0.855263                  -8   \n",
       "1            920                     22.0     1.023952                 -90   \n",
       "2           1776                    111.0     1.084337                 -25   \n",
       "3           5790                    105.0     1.100000                -194   \n",
       "4           1398                     -4.0     0.819277                 -24   \n",
       "\n",
       "   total_bags  \n",
       "0           0  \n",
       "1           0  \n",
       "2           0  \n",
       "3           0  \n",
       "4           0  "
      ]
     },
     "execution_count": 19,
     "metadata": {},
     "output_type": "execute_result"
    }
   ],
   "source": [
    "# Calculate Departure Delay in minutes\n",
    "master_df['departure_delay_minutes'] = (master_df['actual_departure_datetime_local'] - master_df['scheduled_departure_datetime_local']).dt.total_seconds() / 60\n",
    "\n",
    "# Calculate Load Factor (how full the plane is)\n",
    "master_df['load_factor'] = master_df['total_pax'] / master_df['total_seats']\n",
    "\n",
    "# Calculate Ground Time Pressure\n",
    "master_df['ground_time_crunch'] = master_df['minimum_turn_minutes'] - master_df['scheduled_ground_time_minutes']\n",
    "\n",
    "# Calculate Total Bags\n",
    "if 'checked_bags' in master_df.columns and 'transfer_bags' in master_df.columns:\n",
    "    master_df['total_bags'] = master_df['checked_bags'] + master_df['transfer_bags']\n",
    "else:\n",
    "    master_df['total_bags'] = 0 # Handle case if no bags were found\n",
    "\n",
    "print(\"New features created:\")\n",
    "master_df[['flight_number', 'departure_delay_minutes', 'load_factor', 'ground_time_crunch', 'total_bags']].head()"
   ]
  },
  {
   "cell_type": "code",
   "execution_count": 20,
   "id": "6e589a91-9449-46ed-8c6f-f96e5efc4e53",
   "metadata": {},
   "outputs": [
    {
     "name": "stdout",
     "output_type": "stream",
     "text": [
      "<class 'pandas.core.frame.DataFrame'>\n",
      "RangeIndex: 8099 entries, 0 to 8098\n",
      "Data columns (total 28 columns):\n",
      " #   Column                              Non-Null Count  Dtype              \n",
      "---  ------                              --------------  -----              \n",
      " 0   company_id                          8099 non-null   object             \n",
      " 1   flight_number                       8099 non-null   int64              \n",
      " 2   scheduled_departure_date_local      8099 non-null   datetime64[ns]     \n",
      " 3   scheduled_departure_station_code    8099 non-null   object             \n",
      " 4   scheduled_arrival_station_code      8099 non-null   object             \n",
      " 5   scheduled_departure_datetime_local  8099 non-null   datetime64[ns, UTC]\n",
      " 6   scheduled_arrival_datetime_local    8099 non-null   datetime64[ns, UTC]\n",
      " 7   actual_departure_datetime_local     8099 non-null   datetime64[ns, UTC]\n",
      " 8   actual_arrival_datetime_local       8099 non-null   datetime64[ns, UTC]\n",
      " 9   total_seats                         8099 non-null   int64              \n",
      " 10  fleet_type                          8099 non-null   object             \n",
      " 11  carrier                             8099 non-null   object             \n",
      " 12  scheduled_ground_time_minutes       8099 non-null   int64              \n",
      " 13  actual_ground_time_minutes          8099 non-null   int64              \n",
      " 14  minimum_turn_minutes                8099 non-null   int64              \n",
      " 15  total_pax                           8099 non-null   int64              \n",
      " 16  total_children                      8099 non-null   int64              \n",
      " 17  total_stroller_users                8099 non-null   int64              \n",
      " 18  total_lap_children                  8099 non-null   int64              \n",
      " 19  total_basic_economy                 8099 non-null   int64              \n",
      " 20  Hot Transfer                        8099 non-null   int64              \n",
      " 21  Origin                              8099 non-null   int64              \n",
      " 22  transfer_bags                       8099 non-null   int64              \n",
      " 23  ssr_count                           8099 non-null   float64            \n",
      " 24  departure_delay_minutes             8099 non-null   float64            \n",
      " 25  load_factor                         8099 non-null   float64            \n",
      " 26  ground_time_crunch                  8099 non-null   int64              \n",
      " 27  total_bags                          8099 non-null   int64              \n",
      "dtypes: datetime64[ns, UTC](4), datetime64[ns](1), float64(3), int64(15), object(5)\n",
      "memory usage: 1.7+ MB\n"
     ]
    }
   ],
   "source": [
    "master_df.info()"
   ]
  },
  {
   "cell_type": "code",
   "execution_count": 24,
   "id": "6107cd9b-670e-42f6-a60b-0640364b61f1",
   "metadata": {},
   "outputs": [
    {
     "name": "stdout",
     "output_type": "stream",
     "text": [
      "✅ Visualization libraries imported.\n"
     ]
    }
   ],
   "source": [
    "import matplotlib.pyplot as plt\n",
    "import seaborn as sns\n",
    "\n",
    "# Set some default styles for our plots\n",
    "sns.set_style('whitegrid')\n",
    "plt.rcParams['figure.figsize'] = (10, 6)\n",
    "\n",
    "print(\"✅ Visualization libraries imported.\")"
   ]
  },
  {
   "cell_type": "code",
   "execution_count": 25,
   "id": "27a3cfa0-85ed-4bc8-83ea-28e57d8bfd11",
   "metadata": {},
   "outputs": [
    {
     "name": "stdout",
     "output_type": "stream",
     "text": [
      "The average departure delay is: 21.18 minutes.\n",
      "The percentage of flights departing late is: 49.61%\n"
     ]
    },
    {
     "data": {
      "image/png": "[encoded data removed]",
      "text/plain": [
       "<Figure size 1200x600 with 1 Axes>"
      ]
     },
     "metadata": {},
     "output_type": "display_data"
    }
   ],
   "source": [
    "# --- Calculations ---\n",
    "avg_delay = master_df['departure_delay_minutes'].mean()\n",
    "late_flights_percentage = (master_df['departure_delay_minutes'] > 0).mean() * 100\n",
    "\n",
    "print(f\"The average departure delay is: {avg_delay:.2f} minutes.\")\n",
    "print(f\"The percentage of flights departing late is: {late_flights_percentage:.2f}%\")\n",
    "\n",
    "# --- Visualization ---\n",
    "plt.figure(figsize=(12, 6))\n",
    "sns.histplot(master_df['departure_delay_minutes'], bins=50, kde=True)\n",
    "plt.title('Distribution of Departure Delays (in Minutes)')\n",
    "plt.xlabel('Departure Delay (Minutes)')\n",
    "plt.ylabel('Number of Flights')\n",
    "plt.xlim(-60, 180) # Limiting x-axis to see the main distribution more clearly\n",
    "plt.axvline(avg_delay, color='red', linestyle='--', label=f'Average Delay: {avg_delay:.2f} min')\n",
    "plt.legend()\n",
    "plt.show()"
   ]
  },
  {
   "cell_type": "code",
   "execution_count": 26,
   "id": "621900b6-72e4-4b17-9482-83d959b231b6",
   "metadata": {},
   "outputs": [
    {
     "name": "stdout",
     "output_type": "stream",
     "text": [
      "Number of flights with scheduled ground time below minimum: 630\n",
      "Percentage of flights under ground time pressure: 7.78%\n"
     ]
    },
    {
     "data": {
      "image/png": "[encoded data removed]",
      "text/plain": [
       "<Figure size 1200x600 with 1 Axes>"
      ]
     },
     "metadata": {},
     "output_type": "display_data"
    }
   ],
   "source": [
    "# --- Calculation ---\n",
    "flights_under_pressure = (master_df['ground_time_crunch'] > 0).sum()\n",
    "total_flights = len(master_df)\n",
    "\n",
    "print(f\"Number of flights with scheduled ground time below minimum: {flights_under_pressure}\")\n",
    "print(f\"Percentage of flights under ground time pressure: {(flights_under_pressure / total_flights * 100):.2f}%\")\n",
    "\n",
    "# --- Visualization ---\n",
    "plt.figure(figsize=(12, 6))\n",
    "sns.histplot(master_df['ground_time_crunch'], bins=40, color='skyblue')\n",
    "plt.title('Distribution of Ground Time Crunch')\n",
    "plt.xlabel('Ground Time Crunch (Minimum Turn Mins - Scheduled Ground Mins)')\n",
    "plt.ylabel('Number of Flights')\n",
    "plt.axvline(0, color='red', linestyle='--', label='Pressure Threshold (Crunch > 0 is bad)')\n",
    "plt.legend()\n",
    "plt.show()"
   ]
  },
  {
   "cell_type": "code",
   "execution_count": 27,
   "id": "b157e949-4d00-4775-b203-3d33abb5621a",
   "metadata": {},
   "outputs": [
    {
     "name": "stdout",
     "output_type": "stream",
     "text": [
      "The average ratio of transfer bags to origin bags is: 2.90\n"
     ]
    }
   ],
   "source": [
    "# --- Calculation ---\n",
    "# To avoid division by zero, we add 1 to the denominator.\n",
    "# This is a simple way to handle flights that might only have transfer bags.\n",
    "master_df['transfer_bag_ratio'] = master_df['transfer_bags'] / (master_df['Origin'] + 1)\n",
    "\n",
    "avg_transfer_ratio = master_df['transfer_bag_ratio'].mean()\n",
    "\n",
    "print(f\"The average ratio of transfer bags to origin bags is: {avg_transfer_ratio:.2f}\")"
   ]
  },
  {
   "cell_type": "code",
   "execution_count": 28,
   "id": "673c0657-3a6c-41ef-bde4-f846f8c91e27",
   "metadata": {},
   "outputs": [
    {
     "data": {
      "image/png": "[encoded data removed]",
      "text/plain": [
       "<Figure size 1200x700 with 1 Axes>"
      ]
     },
     "metadata": {},
     "output_type": "display_data"
    },
    {
     "name": "stdout",
     "output_type": "stream",
     "text": [
      "The correlation between load factor and departure delay is: -0.150\n"
     ]
    }
   ],
   "source": [
    "# --- Visualization ---\n",
    "plt.figure(figsize=(12, 7))\n",
    "sns.scatterplot(data=master_df, x='load_factor', y='departure_delay_minutes')\n",
    "plt.title('Departure Delay vs. Passenger Load Factor')\n",
    "plt.xlabel('Load Factor (Percentage of Seats Filled)')\n",
    "plt.ylabel('Departure Delay (Minutes)')\n",
    "plt.ylim(-30, 200) # Zoom in on the majority of delays\n",
    "plt.show()\n",
    "\n",
    "# --- Calculation ---\n",
    "correlation = master_df['load_factor'].corr(master_df['departure_delay_minutes'])\n",
    "print(f\"The correlation between load factor and departure delay is: {correlation:.3f}\")"
   ]
  },
  {
   "cell_type": "code",
   "execution_count": 40,
   "id": "535cb019-16ba-4b49-a782-2f6967997484",
   "metadata": {},
   "outputs": [
    {
     "data": {
      "image/png": "[encoded data removed]",
      "text/plain": [
       "<Figure size 1200x700 with 1 Axes>"
      ]
     },
     "metadata": {},
     "output_type": "display_data"
    }
   ],
   "source": [
    "# Step 1: Create load factor categories\n",
    "master_df['load_category'] = pd.qcut(master_df['load_factor'], q=3, labels=['Low Load', 'Medium Load', 'High Load'])\n",
    "\n",
    "# Step 2: Create SSR categories (e.g., above or below the median)\n",
    "median_ssr = master_df['ssr_count'].median()\n",
    "master_df['ssr_category'] = master_df['ssr_count'].apply(lambda x: 'High SSR' if x > median_ssr else 'Low SSR')\n",
    "\n",
    "# Step 3: Create the plot\n",
    "plt.figure(figsize=(12, 7))\n",
    "sns.barplot(data=master_df, x='load_category', y='departure_delay_minutes', hue='ssr_category', palette='viridis')\n",
    "plt.title('Average Delay by Load and SSR Count')\n",
    "plt.xlabel('Passenger Load Category')\n",
    "plt.ylabel('Average Departure Delay (Minutes)')\n",
    "plt.show()"
   ]
  },
  {
   "cell_type": "code",
   "execution_count": 46,
   "id": "6af77179-b332-461a-8bc9-7f7d240a9dd5",
   "metadata": {},
   "outputs": [
    {
     "name": "stdout",
     "output_type": "stream",
     "text": [
      "✅ Features for scoring have been selected:\n",
      "['load_factor', 'ground_time_crunch', 'transfer_bags', 'ssr_count']\n"
     ]
    }
   ],
   "source": [
    "# These are the features our EDA showed are important drivers of difficulty\n",
    "feature_columns = [\n",
    "    'load_factor',\n",
    "    'ground_time_crunch',\n",
    "    'transfer_bags',\n",
    "    'ssr_count'\n",
    "]\n",
    "\n",
    "# Create a copy of the master_df to work on for scoring\n",
    "score_df = master_df.copy()\n",
    "\n",
    "print(\"✅ Features for scoring have been selected:\")\n",
    "print(feature_columns)"
   ]
  },
  {
   "cell_type": "code",
   "execution_count": 47,
   "id": "04c31ff2-233a-4ea1-b516-33219140c8c0",
   "metadata": {},
   "outputs": [
    {
     "name": "stdout",
     "output_type": "stream",
     "text": [
      "✅ Features have been normalized on a daily basis.\n"
     ]
    },
    {
     "name": "stderr",
     "output_type": "stream",
     "text": [
      "C:\\Users\\princ\\AppData\\Local\\Temp\\ipykernel_27588\\1848432421.py:19: FutureWarning: The behavior of DataFrame concatenation with empty or all-NA entries is deprecated. In a future version, this will no longer exclude empty or all-NA columns when determining the result dtypes. To retain the old behavior, exclude the relevant entries before the concat operation.\n",
      "  normalized_features_df = pd.concat([normalized_features_df, scaled_df])\n"
     ]
    },
    {
     "data": {
      "text/html": [
       "<div>\n",
       "<style scoped>\n",
       "    .dataframe tbody tr th:only-of-type {\n",
       "        vertical-align: middle;\n",
       "    }\n",
       "\n",
       "    .dataframe tbody tr th {\n",
       "        vertical-align: top;\n",
       "    }\n",
       "\n",
       "    .dataframe thead th {\n",
       "        text-align: right;\n",
       "    }\n",
       "</style>\n",
       "<table border=\"1\" class=\"dataframe\">\n",
       "  <thead>\n",
       "    <tr style=\"text-align: right;\">\n",
       "      <th></th>\n",
       "      <th>load_factor_norm</th>\n",
       "      <th>ground_time_crunch_norm</th>\n",
       "      <th>transfer_bags_norm</th>\n",
       "      <th>ssr_count_norm</th>\n",
       "    </tr>\n",
       "  </thead>\n",
       "  <tbody>\n",
       "    <tr>\n",
       "      <th>0</th>\n",
       "      <td>0.527888</td>\n",
       "      <td>0.928960</td>\n",
       "      <td>0.069686</td>\n",
       "      <td>0.166667</td>\n",
       "    </tr>\n",
       "    <tr>\n",
       "      <th>1</th>\n",
       "      <td>0.575514</td>\n",
       "      <td>0.968268</td>\n",
       "      <td>0.155462</td>\n",
       "      <td>0.272727</td>\n",
       "    </tr>\n",
       "    <tr>\n",
       "      <th>2</th>\n",
       "      <td>0.628677</td>\n",
       "      <td>0.980511</td>\n",
       "      <td>0.146154</td>\n",
       "      <td>0.000000</td>\n",
       "    </tr>\n",
       "    <tr>\n",
       "      <th>3</th>\n",
       "      <td>0.693141</td>\n",
       "      <td>0.926023</td>\n",
       "      <td>0.151515</td>\n",
       "      <td>0.125000</td>\n",
       "    </tr>\n",
       "    <tr>\n",
       "      <th>4</th>\n",
       "      <td>0.422614</td>\n",
       "      <td>0.960904</td>\n",
       "      <td>0.188889</td>\n",
       "      <td>0.100000</td>\n",
       "    </tr>\n",
       "  </tbody>\n",
       "</table>\n",
       "</div>"
      ],
      "text/plain": [
       "   load_factor_norm  ground_time_crunch_norm  transfer_bags_norm  \\\n",
       "0          0.527888                 0.928960            0.069686   \n",
       "1          0.575514                 0.968268            0.155462   \n",
       "2          0.628677                 0.980511            0.146154   \n",
       "3          0.693141                 0.926023            0.151515   \n",
       "4          0.422614                 0.960904            0.188889   \n",
       "\n",
       "   ssr_count_norm  \n",
       "0        0.166667  \n",
       "1        0.272727  \n",
       "2        0.000000  \n",
       "3        0.125000  \n",
       "4        0.100000  "
      ]
     },
     "execution_count": 47,
     "metadata": {},
     "output_type": "execute_result"
    }
   ],
   "source": [
    "from sklearn.preprocessing import MinMaxScaler\n",
    "\n",
    "# Create new column names for the normalized features\n",
    "normalized_columns = [f'{col}_norm' for col in feature_columns]\n",
    "\n",
    "# Initialize a new DataFrame to store the normalized results\n",
    "normalized_features_df = pd.DataFrame(columns=normalized_columns)\n",
    "\n",
    "# Group by day and apply the scaler to each day's data\n",
    "for date, group in score_df.groupby('scheduled_departure_date_local'):\n",
    "    scaler = MinMaxScaler()\n",
    "    # Fit and transform the features for the current day's flights\n",
    "    scaled_data = scaler.fit_transform(group[feature_columns])\n",
    "    # Create a temporary DataFrame with the scaled data\n",
    "    scaled_df = pd.DataFrame(scaled_data, columns=normalized_columns, index=group.index)\n",
    "    # Append the results to our main normalized DataFrame\n",
    "    # normalized_features_df = pd.concat([normalized_features_df, scaled_df])\n",
    "    # if not scaled_df.empty:\n",
    "    normalized_features_df = pd.concat([normalized_features_df, scaled_df])\n",
    "\n",
    "# Join the new normalized columns back to our main scoring DataFrame\n",
    "score_df = score_df.join(normalized_features_df)\n",
    "\n",
    "print(\"✅ Features have been normalized on a daily basis.\")\n",
    "score_df[normalized_columns].head()"
   ]
  },
  {
   "cell_type": "code",
   "execution_count": 48,
   "id": "cdec2a48-b8fa-416a-b0ed-8980540a7c21",
   "metadata": {},
   "outputs": [
    {
     "name": "stdout",
     "output_type": "stream",
     "text": [
      "✅ Difficulty score calculated.\n"
     ]
    },
    {
     "data": {
      "text/html": [
       "<div>\n",
       "<style scoped>\n",
       "    .dataframe tbody tr th:only-of-type {\n",
       "        vertical-align: middle;\n",
       "    }\n",
       "\n",
       "    .dataframe tbody tr th {\n",
       "        vertical-align: top;\n",
       "    }\n",
       "\n",
       "    .dataframe thead th {\n",
       "        text-align: right;\n",
       "    }\n",
       "</style>\n",
       "<table border=\"1\" class=\"dataframe\">\n",
       "  <thead>\n",
       "    <tr style=\"text-align: right;\">\n",
       "      <th></th>\n",
       "      <th>flight_number</th>\n",
       "      <th>difficulty_score</th>\n",
       "    </tr>\n",
       "  </thead>\n",
       "  <tbody>\n",
       "    <tr>\n",
       "      <th>2493</th>\n",
       "      <td>944</td>\n",
       "      <td>0.900150</td>\n",
       "    </tr>\n",
       "    <tr>\n",
       "      <th>4009</th>\n",
       "      <td>845</td>\n",
       "      <td>0.892790</td>\n",
       "    </tr>\n",
       "    <tr>\n",
       "      <th>3763</th>\n",
       "      <td>972</td>\n",
       "      <td>0.851411</td>\n",
       "    </tr>\n",
       "    <tr>\n",
       "      <th>1630</th>\n",
       "      <td>972</td>\n",
       "      <td>0.844522</td>\n",
       "    </tr>\n",
       "    <tr>\n",
       "      <th>7011</th>\n",
       "      <td>845</td>\n",
       "      <td>0.840721</td>\n",
       "    </tr>\n",
       "  </tbody>\n",
       "</table>\n",
       "</div>"
      ],
      "text/plain": [
       "      flight_number  difficulty_score\n",
       "2493            944          0.900150\n",
       "4009            845          0.892790\n",
       "3763            972          0.851411\n",
       "1630            972          0.844522\n",
       "7011            845          0.840721"
      ]
     },
     "execution_count": 48,
     "metadata": {},
     "output_type": "execute_result"
    }
   ],
   "source": [
    "# --- Define Weights (Justify these in your report!) ---\n",
    "# Example justification: \"We weighted ground_time_crunch highest as our EDA showed it's a\n",
    "# direct indicator of operational pressure set by the schedule itself.\"\n",
    "weights = {\n",
    "    'load_factor_norm': 0.30,       # Represents passenger volume pressure\n",
    "    'ground_time_crunch_norm': 0.40, # Represents schedule pressure\n",
    "    'transfer_bags_norm': 0.15,      # Represents baggage handling complexity\n",
    "    'ssr_count_norm': 0.15           # Represents passenger service complexity\n",
    "}\n",
    "\n",
    "# --- Calculate the Score ---\n",
    "score_df['difficulty_score'] = (\n",
    "    score_df['load_factor_norm'] * weights['load_factor_norm'] +\n",
    "    score_df['ground_time_crunch_norm'] * weights['ground_time_crunch_norm'] +\n",
    "    score_df['transfer_bags_norm'] * weights['transfer_bags_norm'] +\n",
    "    score_df['ssr_count_norm'] * weights['ssr_count_norm']\n",
    ")\n",
    "\n",
    "print(\"✅ Difficulty score calculated.\")\n",
    "score_df[['flight_number', 'difficulty_score']].sort_values(by='difficulty_score', ascending=False).head()"
   ]
  },
  {
   "cell_type": "code",
   "execution_count": 53,
   "id": "66556d74-e3c9-42ea-a8ab-8d37c7ea44b9",
   "metadata": {},
   "outputs": [
    {
     "name": "stdout",
     "output_type": "stream",
     "text": [
      "✅ Flights have been ranked within each day.\n",
      "<DatetimeArray>\n",
      "['2025-08-04 00:00:00', '2025-08-03 00:00:00', '2025-08-10 00:00:00',\n",
      " '2025-08-06 00:00:00', '2025-08-05 00:00:00', '2025-08-07 00:00:00',\n",
      " '2025-08-15 00:00:00', '2025-08-09 00:00:00', '2025-08-14 00:00:00',\n",
      " '2025-08-08 00:00:00', '2025-08-02 00:00:00', '2025-08-11 00:00:00',\n",
      " '2025-08-13 00:00:00', '2025-08-01 00:00:00', '2025-08-12 00:00:00']\n",
      "Length: 15, dtype: datetime64[ns]\n"
     ]
    }
   ],
   "source": [
    "# Rank flights within each day, with the highest score getting rank 1\n",
    "score_df['daily_rank'] = score_df.groupby('scheduled_departure_date_local')['difficulty_score'].rank(method='dense', ascending=False)\n",
    "\n",
    "print(\"✅ Flights have been ranked within each day.\")\n",
    "# This command will print out all the unique dates in your data\n",
    "print(score_df['scheduled_departure_date_local'].unique())\n"
   ]
  },
  {
   "cell_type": "code",
   "execution_count": 54,
   "id": "ad454066-b621-44b8-82dc-c2b7150151c2",
   "metadata": {},
   "outputs": [
    {
     "data": {
      "text/html": [
       "<div>\n",
       "<style scoped>\n",
       "    .dataframe tbody tr th:only-of-type {\n",
       "        vertical-align: middle;\n",
       "    }\n",
       "\n",
       "    .dataframe tbody tr th {\n",
       "        vertical-align: top;\n",
       "    }\n",
       "\n",
       "    .dataframe thead th {\n",
       "        text-align: right;\n",
       "    }\n",
       "</style>\n",
       "<table border=\"1\" class=\"dataframe\">\n",
       "  <thead>\n",
       "    <tr style=\"text-align: right;\">\n",
       "      <th></th>\n",
       "      <th>flight_number</th>\n",
       "      <th>difficulty_score</th>\n",
       "      <th>daily_rank</th>\n",
       "    </tr>\n",
       "  </thead>\n",
       "  <tbody>\n",
       "    <tr>\n",
       "      <th>6578</th>\n",
       "      <td>1811</td>\n",
       "      <td>0.825612</td>\n",
       "      <td>1.0</td>\n",
       "    </tr>\n",
       "    <tr>\n",
       "      <th>3546</th>\n",
       "      <td>2201</td>\n",
       "      <td>0.777047</td>\n",
       "      <td>2.0</td>\n",
       "    </tr>\n",
       "    <tr>\n",
       "      <th>6229</th>\n",
       "      <td>907</td>\n",
       "      <td>0.772920</td>\n",
       "      <td>3.0</td>\n",
       "    </tr>\n",
       "    <tr>\n",
       "      <th>1830</th>\n",
       "      <td>219</td>\n",
       "      <td>0.762181</td>\n",
       "      <td>4.0</td>\n",
       "    </tr>\n",
       "    <tr>\n",
       "      <th>42</th>\n",
       "      <td>1899</td>\n",
       "      <td>0.760961</td>\n",
       "      <td>5.0</td>\n",
       "    </tr>\n",
       "  </tbody>\n",
       "</table>\n",
       "</div>"
      ],
      "text/plain": [
       "      flight_number  difficulty_score  daily_rank\n",
       "6578           1811          0.825612         1.0\n",
       "3546           2201          0.777047         2.0\n",
       "6229            907          0.772920         3.0\n",
       "1830            219          0.762181         4.0\n",
       "42             1899          0.760961         5.0"
      ]
     },
     "execution_count": 54,
     "metadata": {},
     "output_type": "execute_result"
    }
   ],
   "source": [
    "# Show the top 5 ranked flights for a single day\n",
    "score_df[score_df['scheduled_departure_date_local'] == '2025-08-01'][['flight_number', 'difficulty_score', 'daily_rank']].sort_values(by='daily_rank').head()"
   ]
  },
  {
   "cell_type": "code",
   "execution_count": 56,
   "id": "6c96906e-421c-4b17-bd37-ec9c031f6761",
   "metadata": {},
   "outputs": [
    {
     "name": "stdout",
     "output_type": "stream",
     "text": [
      "✅ Flights have been classified into 'Difficult', 'Medium', 'Easy'.\n",
      "\n",
      "Classification counts for a sample day:\n",
      "difficulty_class\n",
      "Medium       280\n",
      "Difficult    141\n",
      "Easy         140\n",
      "Name: count, dtype: int64\n"
     ]
    }
   ],
   "source": [
    "# Define the bins and labels\n",
    "bins = [0, 0.25, 0.75, 1.0] # 0-25% (Difficult), 25-75% (Medium), 75-100% (Easy)\n",
    "labels = ['Difficult', 'Medium', 'Easy']\n",
    "\n",
    "# Apply the classification to each day's ranks\n",
    "score_df['difficulty_class'] = score_df.groupby('scheduled_departure_date_local')['daily_rank'].transform(\n",
    "    lambda x: pd.qcut(x, q=bins, labels=labels, duplicates='drop')\n",
    ")\n",
    "\n",
    "\n",
    "print(\"✅ Flights have been classified into 'Difficult', 'Medium', 'Easy'.\")\n",
    "# Show the classification counts for a single day\n",
    "print(\"\\nClassification counts for a sample day:\")\n",
    "print(score_df[score_df['scheduled_departure_date_local'] == '2025-08-01']['difficulty_class'].value_counts())"
   ]
  },
  {
   "cell_type": "code",
   "execution_count": 57,
   "id": "ff64763f-b8db-4ad3-9c93-a21943978a90",
   "metadata": {},
   "outputs": [
    {
     "name": "stdout",
     "output_type": "stream",
     "text": [
      "--- Top 10 Most Difficult Destinations (by Avg. Score) ---\n",
      "scheduled_arrival_station_code\n",
      "GRU    0.775434\n",
      "BRU    0.765241\n",
      "HNL    0.739628\n",
      "GUA    0.735682\n",
      "ATH    0.725872\n",
      "FRA    0.702757\n",
      "NAS    0.681600\n",
      "FAI    0.677789\n",
      "HND    0.675440\n",
      "CUN    0.661976\n",
      "Name: difficulty_score, dtype: float64\n"
     ]
    }
   ],
   "source": [
    "# Using Pandas to find the top 10 most difficult destinations\n",
    "difficult_destinations = score_df.groupby('scheduled_arrival_station_code')['difficulty_score'].mean().sort_values(ascending=False).head(10)\n",
    "\n",
    "print(\"--- Top 10 Most Difficult Destinations (by Avg. Score) ---\")\n",
    "print(difficult_destinations)"
   ]
  },
  {
   "cell_type": "code",
   "execution_count": 58,
   "id": "e215cf8f-e77f-44c1-b7b8-173c17e568ea",
   "metadata": {},
   "outputs": [
    {
     "name": "stdout",
     "output_type": "stream",
     "text": [
      "\n",
      "--- Average Profile of Flight Difficulty Classes ---\n",
      "                  load_factor  ground_time_crunch  transfer_bags  ssr_count\n",
      "difficulty_class                                                           \n",
      "Difficult            1.191214          -60.073363      61.539143   4.462826\n",
      "Medium               1.052169          -79.182785      33.577789   1.764284\n",
      "Easy                 0.800994         -324.582716      23.833580   1.018765\n"
     ]
    },
    {
     "name": "stderr",
     "output_type": "stream",
     "text": [
      "C:\\Users\\princ\\AppData\\Local\\Temp\\ipykernel_27588\\2992526343.py:2: FutureWarning: The default of observed=False is deprecated and will be changed to True in a future version of pandas. Pass observed=False to retain current behavior or observed=True to adopt the future default and silence this warning.\n",
      "  driver_profile = score_df.groupby('difficulty_class')[['load_factor', 'ground_time_crunch', 'transfer_bags', 'ssr_count']].mean()\n"
     ]
    }
   ],
   "source": [
    "# Create a profile of what 'Difficult', 'Medium', and 'Easy' flights look like on average\n",
    "driver_profile = score_df.groupby('difficulty_class')[['load_factor', 'ground_time_crunch', 'transfer_bags', 'ssr_count']].mean()\n",
    "\n",
    "print(\"\\n--- Average Profile of Flight Difficulty Classes ---\")\n",
    "print(driver_profile)"
   ]
  },
  {
   "cell_type": "code",
   "execution_count": null,
   "id": "92b1c9e1-7989-443e-b7de-56fc67c76451",
   "metadata": {},
   "outputs": [],
   "source": [
    "# ## The Story This Data Tells 📖\n",
    "# This table clearly shows that \"Difficult\" flights aren't just slightly harder; they are fundamentally different across every single driver.\n",
    "\n",
    "# Transfer Bags & SSRs are the Clearest Signals:\n",
    "\n",
    "# A 'Difficult' flight has, on average, 61.5 transfer bags, which is nearly three times more than an 'Easy' flight (23.8).\n",
    "\n",
    "# It also has over four times the Special Service Requests (SSRs) (4.46 vs. 1.01).\n",
    "\n",
    "# Insight: These are your strongest indicators. A flight with many connecting passengers (transfer bags) and high passenger needs (SSRs) is a complex operation.\n",
    "\n",
    "# Ground Time is a Major Pressure Point:\n",
    "\n",
    "# Remember, ground_time_crunch is the buffer time. A number closer to zero means a tighter schedule.\n",
    "\n",
    "# 'Difficult' flights have an average crunch of -60 minutes, while 'Easy' flights have a massive buffer of -324 minutes.\n",
    "\n",
    "# Insight: Difficult flights are on a much tighter leash. They have far less room for error or unexpected delays during the turnaround process on the ground.\n",
    "\n",
    "# Passenger Load Shows Overbooking:\n",
    "\n",
    "# The load_factor for 'Difficult' flights is 1.19 (or 119%). This is a critical finding. It means these flights are not just full; they are consistently overbooked.\n",
    "\n",
    "# Insight: The most difficult flights are dealing with the maximum possible passenger volume, which likely involves managing re-bookings, volunteers, and compensation, adding another layer of service complexity."
   ]
  }
 ],
 "metadata": {
  "kernelspec": {
   "display_name": "Python 3 (ipykernel)",
   "language": "python",
   "name": "python3"
  },
  "language_info": {
   "codemirror_mode": {
    "name": "ipython",
    "version": 3
   },
   "file_extension": ".py",
   "mimetype": "text/x-python",
   "name": "python",
   "nbconvert_exporter": "python",
   "pygments_lexer": "ipython3",
   "version": "3.11.3"
  }
 },
 "nbformat": 4,
 "nbformat_minor": 5
}
